{
 "cells": [
  {
   "cell_type": "code",
   "execution_count": 16,
   "metadata": {
    "pycharm": {
     "name": "#%%\n"
    }
   },
   "outputs": [],
   "source": [
    "import pandas as pd\n",
    "import csv\n",
    "import random\n",
    "# df = pd.read_csv('data/cs_sharing_30000.csv')\n",
    "df = pd.read_csv('data/neg_pos_train.tsv', sep='\\t')\n",
    "\n",
    "# positive_mask = df['emotional'] == '일반'\n",
    "# negative_mask = df['emotional'] == '불만'\n",
    "\n",
    "# neg = df.loc[negative_mask]['text'].values.tolist()\n",
    "# pos = df.loc[positive_mask]['text'].values.tolist()\n",
    "\n",
    "# 도메인\t카테고리\t대화셋일련번호\t화자\t고객의도\tsentence\tsentence_len\tlabel\n",
    "# filename,text,emotional,category\n",
    "\n",
    "all_data = []\n",
    "\n",
    "for idx, row in df.iterrows():\n",
    "        filename = row['filename']\n",
    "        text = row['text']\n",
    "        emotional = row['emotional']\n",
    "        category = row['category']\n",
    "        \n",
    "        if emotional != '판단불가':\n",
    "            all_data.append((filename, text, emotional, category))\n",
    "\n",
    "random.shuffle(all_data)\n",
    "\n",
    "\n",
    "valid_length = int(0.2 * len(all_data))\n",
    "print(valid_length)\n",
    "\n",
    "valid_data = all_data[:valid_length] \n",
    "train_data = all_data[valid_length:]\n",
    "\n",
    "with open('sentiment_train_0919.csv', 'w') as f:\n",
    "    csv_writer = csv.writer(f)\n",
    "    \n",
    "    for row in train_data:\n",
    "        csv_writer.writerow(row)\n",
    "\n",
    "with open('sentiment_valid_0919.csv', 'w') as f:\n",
    "    csv_writer = csv.writer(f)\n",
    "    \n",
    "    for row in valid_data:\n",
    "        csv_writer.writerow(row)\n",
    "\n",
    "\n",
    "        # csv_writer.writerow([filename, text, emotional, category])   \n",
    "\n",
    "\n",
    "# with open('neg_pos_train.csv', 'w') as f:\n",
    "#     csv_writer = csv.writer(f)\n",
    "\n",
    "#     for idx, row in df.iterrows():\n",
    "#         filename = row['도메인'] + '_' + row['카테고리'] + '_' + row['대화셋일련번호']\n",
    "#         text = row['sentence']\n",
    "#         text = text.replace('.', '')\n",
    "#         text = text.replace('?', '')\n",
    "#         text = text.replace(',', '')\n",
    "#         text = text.replace('!', '')\n",
    "#         if row['label'] == '불만':\n",
    "#             emotional = '불만'\n",
    "#         else:\n",
    "#             emotional = 'nan'\n",
    "#         category = 'nan'\n",
    "#         csv_writer.writerow([filename, text, emotional, category])    "
   ]
  }
 ],
 "metadata": {
  "kernelspec": {
   "display_name": "Python 3.7.11 ('bong')",
   "language": "python",
   "name": "python3"
  },
  "language_info": {
   "codemirror_mode": {
    "name": "ipython",
    "version": 3
   },
   "file_extension": ".py",
   "mimetype": "text/x-python",
   "name": "python",
   "nbconvert_exporter": "python",
   "pygments_lexer": "ipython3",
   "version": "3.7.11"
  },
  "orig_nbformat": 4,
  "vscode": {
   "interpreter": {
    "hash": "1f18bfd9a0470fde4525f57882508953762459143adbc77a448ef3ae6f09ab34"
   }
  }
 },
 "nbformat": 4,
 "nbformat_minor": 2
}